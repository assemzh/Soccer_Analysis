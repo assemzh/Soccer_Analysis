{
 "cells": [
  {
   "cell_type": "code",
   "execution_count": 11,
   "metadata": {
    "scrolled": true
   },
   "outputs": [
    {
     "name": "stderr",
     "output_type": "stream",
     "text": [
      "Warning message:\n",
      "\"package 'tidyverse' was built under R version 3.6.3\""
     ]
    },
    {
     "ename": "ERROR",
     "evalue": "Error: package or namespace load failed for 'tidyverse' in loadNamespace(i, c(lib.loc, .libPaths()), versionCheck = vI[[i]]):\n namespace 'rlang' 0.3.4 is already loaded, but >= 0.4.0 is required\n",
     "output_type": "error",
     "traceback": [
      "Error: package or namespace load failed for 'tidyverse' in loadNamespace(i, c(lib.loc, .libPaths()), versionCheck = vI[[i]]):\n namespace 'rlang' 0.3.4 is already loaded, but >= 0.4.0 is required\nTraceback:\n",
      "1. library(tidyverse)",
      "2. tryCatch({\n .     attr(package, \"LibPath\") <- which.lib.loc\n .     ns <- loadNamespace(package, lib.loc)\n .     env <- attachNamespace(ns, pos = pos, deps, exclude, include.only)\n . }, error = function(e) {\n .     P <- if (!is.null(cc <- conditionCall(e))) \n .         paste(\" in\", deparse(cc)[1L])\n .     else \"\"\n .     msg <- gettextf(\"package or namespace load failed for %s%s:\\n %s\", \n .         sQuote(package), P, conditionMessage(e))\n .     if (logical.return) \n .         message(paste(\"Error:\", msg), domain = NA)\n .     else stop(msg, call. = FALSE, domain = NA)\n . })",
      "3. tryCatchList(expr, classes, parentenv, handlers)",
      "4. tryCatchOne(expr, names, parentenv, handlers[[1L]])",
      "5. value[[3L]](cond)",
      "6. stop(msg, call. = FALSE, domain = NA)"
     ]
    }
   ],
   "source": [
    "IRkernel::installspec(name = 'ir35', displayname = 'R 4.0.0')\n",
    "library(tidyverse)\n",
    "library(reshape2)\n",
    "library(data.table)\n",
    "library(dplyr)\n",
    "library(knitr)"
   ]
  },
  {
   "cell_type": "code",
   "execution_count": 2,
   "metadata": {
    "_cell_guid": "79c7e3d0-c299-4dcb-8224-4455121ee9b0",
    "_uuid": "d629ff2d2480ee46fbb7e2d37f6b5fab8052498a"
   },
   "outputs": [
    {
     "ename": "ERROR",
     "evalue": "Error in library(\"RSQLite\"): there is no package called 'RSQLite'\n",
     "output_type": "error",
     "traceback": [
      "Error in library(\"RSQLite\"): there is no package called 'RSQLite'\nTraceback:\n",
      "1. library(\"RSQLite\")"
     ]
    }
   ],
   "source": [
    "library(\"RSQLite\")\n",
    "\n",
    "## connect to db\n",
    "con <- dbConnect(drv=RSQLite::SQLite(), dbname=\"../input/soccer/database.sqlite\")\n",
    "\n",
    "## list all tables\n",
    "tables <- dbListTables(con)\n",
    "\n",
    "## exclude sqlite_sequence (contains table information)\n",
    "tables <- tables[tables != \"sqlite_sequence\"]\n",
    "tables\n",
    "lDataFrames <- vector(\"list\", length=length(tables))\n",
    "\n",
    "## create a data.frame for each table\n",
    "for (i in seq(along=tables)) {\n",
    "  lDataFrames[[i]] <- dbGetQuery(conn=con, statement=paste(\"SELECT * FROM '\", tables[[i]], \"'\", sep=\"\"))\n",
    "}"
   ]
  },
  {
   "cell_type": "code",
   "execution_count": 59,
   "metadata": {},
   "outputs": [],
   "source": [
    "# create dataframes\n",
    "country <-  data.frame(lDataFrames[1])\n",
    "league  <-  data.frame(lDataFrames[2])\n",
    "match   <-  data.frame(lDataFrames[3])\n",
    "player  <-  data.frame(lDataFrames[4])\n",
    "team    <-  data.frame(lDataFrames[6])\n",
    "\n",
    "# select relevant columns\n",
    "country <- select(country, id, name) %>% rename(country_id = id)  %>% rename(country_name = name)   # use country_id as key for join\n",
    "league  <- select(league, country_id, name) %>% rename(league_name = name) # use country_id as key for join\n",
    "match   <- select(match, id, country_id, league_id, season, stage, date, match_api_id, home_team_api_id, away_team_api_id, home_team_goal, away_team_goal, home_player_1, home_player_2, home_player_3, home_player_4, home_player_5, home_player_6, home_player_7, home_player_8, home_player_9, home_player_10, home_player_11, away_player_1, away_player_2, away_player_3, away_player_4, away_player_5, away_player_6, away_player_7, away_player_8, away_player_9, away_player_10, away_player_11, goal, shoton, shotoff, foulcommit, card, cross, corner, possession)\n",
    "player  <- select(player,player_api_id, player_name) # use player_api_id as key for join\n",
    "team    <- select(team, team_api_id, team_long_name, team_short_name) # use team_api_id as key for join\n"
   ]
  },
  {
   "cell_type": "code",
   "execution_count": 60,
   "metadata": {},
   "outputs": [],
   "source": [
    "others = colnames(match)[1:11]\n",
    "players = colnames(match)[12:33]"
   ]
  },
  {
   "cell_type": "code",
   "execution_count": 61,
   "metadata": {},
   "outputs": [
    {
     "name": "stderr",
     "output_type": "stream",
     "text": [
      "Warning message in melt(match, id = others, measure = players, na.rm = TRUE, value.name = \"player_api_id\"):\n",
      "“The melt generic in data.table has been passed a data.frame and will attempt to redirect to the relevant reshape2 method; please note that reshape2 is deprecated, and this redirection is now deprecated as well. To continue using melt methods from reshape2 while both libraries are attached, e.g. melt.list, you can prepend the namespace like reshape2::melt(match). In the next version, this warning will become an error.”\n"
     ]
    },
    {
     "data": {
      "text/html": [
       "<table class=\"dataframe\">\n",
       "<caption>A data.frame: 6 × 20</caption>\n",
       "<thead>\n",
       "\t<tr><th></th><th scope=col>id</th><th scope=col>country_id</th><th scope=col>league_id</th><th scope=col>season_start</th><th scope=col>season_end</th><th scope=col>stage</th><th scope=col>date</th><th scope=col>match_api_id</th><th scope=col>home_team_api_id</th><th scope=col>away_team_api_id</th><th scope=col>home_team_goal</th><th scope=col>away_team_goal</th><th scope=col>variable</th><th scope=col>player_api_id</th><th scope=col>team_api_id</th><th scope=col>country_name</th><th scope=col>league_name</th><th scope=col>team_long_name</th><th scope=col>team_short_name</th><th scope=col>player_name</th></tr>\n",
       "\t<tr><th></th><th scope=col>&lt;int&gt;</th><th scope=col>&lt;int&gt;</th><th scope=col>&lt;int&gt;</th><th scope=col>&lt;int&gt;</th><th scope=col>&lt;int&gt;</th><th scope=col>&lt;int&gt;</th><th scope=col>&lt;chr&gt;</th><th scope=col>&lt;int&gt;</th><th scope=col>&lt;int&gt;</th><th scope=col>&lt;int&gt;</th><th scope=col>&lt;int&gt;</th><th scope=col>&lt;int&gt;</th><th scope=col>&lt;fct&gt;</th><th scope=col>&lt;int&gt;</th><th scope=col>&lt;int&gt;</th><th scope=col>&lt;chr&gt;</th><th scope=col>&lt;chr&gt;</th><th scope=col>&lt;chr&gt;</th><th scope=col>&lt;chr&gt;</th><th scope=col>&lt;chr&gt;</th></tr>\n",
       "</thead>\n",
       "<tbody>\n",
       "\t<tr><th scope=row>1</th><td>145</td><td>1</td><td>1</td><td>2008</td><td>2009</td><td>24</td><td>2009-02-28 00:00:00</td><td>493016</td><td>9996</td><td>8635</td><td>1</td><td>1</td><td>home_player_1</td><td>39890</td><td>9996</td><td>Belgium</td><td>Belgium Jupiler League</td><td>Royal Excel Mouscron</td><td>MOU</td><td>Mark Volders       </td></tr>\n",
       "\t<tr><th scope=row>2</th><td>146</td><td>1</td><td>1</td><td>2008</td><td>2009</td><td>24</td><td>2009-02-27 00:00:00</td><td>493017</td><td>8203</td><td>9987</td><td>2</td><td>1</td><td>home_player_1</td><td>38327</td><td>8203</td><td>Belgium</td><td>Belgium Jupiler League</td><td>KV Mechelen         </td><td>MEC</td><td>Wouter Biebauw     </td></tr>\n",
       "\t<tr><th scope=row>3</th><td>147</td><td>1</td><td>1</td><td>2008</td><td>2009</td><td>24</td><td>2009-02-28 00:00:00</td><td>493018</td><td>9986</td><td>9998</td><td>3</td><td>0</td><td>home_player_1</td><td>95597</td><td>9986</td><td>Belgium</td><td>Belgium Jupiler League</td><td>Sporting Charleroi  </td><td>CHA</td><td>Bertrand Laquait   </td></tr>\n",
       "\t<tr><th scope=row>4</th><td>149</td><td>1</td><td>1</td><td>2008</td><td>2009</td><td>24</td><td>2009-03-01 00:00:00</td><td>493020</td><td>9994</td><td>9991</td><td>0</td><td>1</td><td>home_player_1</td><td>30934</td><td>9994</td><td>Belgium</td><td>Belgium Jupiler League</td><td>Sporting Lokeren    </td><td>LOK</td><td>Boubacar Barry Copa</td></tr>\n",
       "\t<tr><th scope=row>5</th><td>150</td><td>1</td><td>1</td><td>2008</td><td>2009</td><td>24</td><td>2009-02-28 00:00:00</td><td>493021</td><td>8342</td><td>9999</td><td>2</td><td>1</td><td>home_player_1</td><td>37990</td><td>8342</td><td>Belgium</td><td>Belgium Jupiler League</td><td>Club Brugge KV      </td><td>CLB</td><td>Stijn Stijnen      </td></tr>\n",
       "\t<tr><th scope=row>6</th><td>151</td><td>1</td><td>1</td><td>2008</td><td>2009</td><td>24</td><td>2009-02-28 00:00:00</td><td>493022</td><td>9993</td><td>8571</td><td>3</td><td>0</td><td>home_player_1</td><td>38391</td><td>9993</td><td>Belgium</td><td>Belgium Jupiler League</td><td>Beerschot AC        </td><td>BAC</td><td>Silvio Proto       </td></tr>\n",
       "</tbody>\n",
       "</table>\n"
      ],
      "text/latex": [
       "A data.frame: 6 × 20\n",
       "\\begin{tabular}{r|llllllllllllllllllll}\n",
       "  & id & country\\_id & league\\_id & season\\_start & season\\_end & stage & date & match\\_api\\_id & home\\_team\\_api\\_id & away\\_team\\_api\\_id & home\\_team\\_goal & away\\_team\\_goal & variable & player\\_api\\_id & team\\_api\\_id & country\\_name & league\\_name & team\\_long\\_name & team\\_short\\_name & player\\_name\\\\\n",
       "  & <int> & <int> & <int> & <int> & <int> & <int> & <chr> & <int> & <int> & <int> & <int> & <int> & <fct> & <int> & <int> & <chr> & <chr> & <chr> & <chr> & <chr>\\\\\n",
       "\\hline\n",
       "\t1 & 145 & 1 & 1 & 2008 & 2009 & 24 & 2009-02-28 00:00:00 & 493016 & 9996 & 8635 & 1 & 1 & home\\_player\\_1 & 39890 & 9996 & Belgium & Belgium Jupiler League & Royal Excel Mouscron & MOU & Mark Volders       \\\\\n",
       "\t2 & 146 & 1 & 1 & 2008 & 2009 & 24 & 2009-02-27 00:00:00 & 493017 & 8203 & 9987 & 2 & 1 & home\\_player\\_1 & 38327 & 8203 & Belgium & Belgium Jupiler League & KV Mechelen          & MEC & Wouter Biebauw     \\\\\n",
       "\t3 & 147 & 1 & 1 & 2008 & 2009 & 24 & 2009-02-28 00:00:00 & 493018 & 9986 & 9998 & 3 & 0 & home\\_player\\_1 & 95597 & 9986 & Belgium & Belgium Jupiler League & Sporting Charleroi   & CHA & Bertrand Laquait   \\\\\n",
       "\t4 & 149 & 1 & 1 & 2008 & 2009 & 24 & 2009-03-01 00:00:00 & 493020 & 9994 & 9991 & 0 & 1 & home\\_player\\_1 & 30934 & 9994 & Belgium & Belgium Jupiler League & Sporting Lokeren     & LOK & Boubacar Barry Copa\\\\\n",
       "\t5 & 150 & 1 & 1 & 2008 & 2009 & 24 & 2009-02-28 00:00:00 & 493021 & 8342 & 9999 & 2 & 1 & home\\_player\\_1 & 37990 & 8342 & Belgium & Belgium Jupiler League & Club Brugge KV       & CLB & Stijn Stijnen      \\\\\n",
       "\t6 & 151 & 1 & 1 & 2008 & 2009 & 24 & 2009-02-28 00:00:00 & 493022 & 9993 & 8571 & 3 & 0 & home\\_player\\_1 & 38391 & 9993 & Belgium & Belgium Jupiler League & Beerschot AC         & BAC & Silvio Proto       \\\\\n",
       "\\end{tabular}\n"
      ],
      "text/markdown": [
       "\n",
       "A data.frame: 6 × 20\n",
       "\n",
       "| <!--/--> | id &lt;int&gt; | country_id &lt;int&gt; | league_id &lt;int&gt; | season_start &lt;int&gt; | season_end &lt;int&gt; | stage &lt;int&gt; | date &lt;chr&gt; | match_api_id &lt;int&gt; | home_team_api_id &lt;int&gt; | away_team_api_id &lt;int&gt; | home_team_goal &lt;int&gt; | away_team_goal &lt;int&gt; | variable &lt;fct&gt; | player_api_id &lt;int&gt; | team_api_id &lt;int&gt; | country_name &lt;chr&gt; | league_name &lt;chr&gt; | team_long_name &lt;chr&gt; | team_short_name &lt;chr&gt; | player_name &lt;chr&gt; |\n",
       "|---|---|---|---|---|---|---|---|---|---|---|---|---|---|---|---|---|---|---|---|---|\n",
       "| 1 | 145 | 1 | 1 | 2008 | 2009 | 24 | 2009-02-28 00:00:00 | 493016 | 9996 | 8635 | 1 | 1 | home_player_1 | 39890 | 9996 | Belgium | Belgium Jupiler League | Royal Excel Mouscron | MOU | Mark Volders        |\n",
       "| 2 | 146 | 1 | 1 | 2008 | 2009 | 24 | 2009-02-27 00:00:00 | 493017 | 8203 | 9987 | 2 | 1 | home_player_1 | 38327 | 8203 | Belgium | Belgium Jupiler League | KV Mechelen          | MEC | Wouter Biebauw      |\n",
       "| 3 | 147 | 1 | 1 | 2008 | 2009 | 24 | 2009-02-28 00:00:00 | 493018 | 9986 | 9998 | 3 | 0 | home_player_1 | 95597 | 9986 | Belgium | Belgium Jupiler League | Sporting Charleroi   | CHA | Bertrand Laquait    |\n",
       "| 4 | 149 | 1 | 1 | 2008 | 2009 | 24 | 2009-03-01 00:00:00 | 493020 | 9994 | 9991 | 0 | 1 | home_player_1 | 30934 | 9994 | Belgium | Belgium Jupiler League | Sporting Lokeren     | LOK | Boubacar Barry Copa |\n",
       "| 5 | 150 | 1 | 1 | 2008 | 2009 | 24 | 2009-02-28 00:00:00 | 493021 | 8342 | 9999 | 2 | 1 | home_player_1 | 37990 | 8342 | Belgium | Belgium Jupiler League | Club Brugge KV       | CLB | Stijn Stijnen       |\n",
       "| 6 | 151 | 1 | 1 | 2008 | 2009 | 24 | 2009-02-28 00:00:00 | 493022 | 9993 | 8571 | 3 | 0 | home_player_1 | 38391 | 9993 | Belgium | Belgium Jupiler League | Beerschot AC         | BAC | Silvio Proto        |\n",
       "\n"
      ],
      "text/plain": [
       "  id  country_id league_id season_start season_end stage date               \n",
       "1 145 1          1         2008         2009       24    2009-02-28 00:00:00\n",
       "2 146 1          1         2008         2009       24    2009-02-27 00:00:00\n",
       "3 147 1          1         2008         2009       24    2009-02-28 00:00:00\n",
       "4 149 1          1         2008         2009       24    2009-03-01 00:00:00\n",
       "5 150 1          1         2008         2009       24    2009-02-28 00:00:00\n",
       "6 151 1          1         2008         2009       24    2009-02-28 00:00:00\n",
       "  match_api_id home_team_api_id away_team_api_id home_team_goal away_team_goal\n",
       "1 493016       9996             8635             1              1             \n",
       "2 493017       8203             9987             2              1             \n",
       "3 493018       9986             9998             3              0             \n",
       "4 493020       9994             9991             0              1             \n",
       "5 493021       8342             9999             2              1             \n",
       "6 493022       9993             8571             3              0             \n",
       "  variable      player_api_id team_api_id country_name league_name           \n",
       "1 home_player_1 39890         9996        Belgium      Belgium Jupiler League\n",
       "2 home_player_1 38327         8203        Belgium      Belgium Jupiler League\n",
       "3 home_player_1 95597         9986        Belgium      Belgium Jupiler League\n",
       "4 home_player_1 30934         9994        Belgium      Belgium Jupiler League\n",
       "5 home_player_1 37990         8342        Belgium      Belgium Jupiler League\n",
       "6 home_player_1 38391         9993        Belgium      Belgium Jupiler League\n",
       "  team_long_name       team_short_name player_name        \n",
       "1 Royal Excel Mouscron MOU             Mark Volders       \n",
       "2 KV Mechelen          MEC             Wouter Biebauw     \n",
       "3 Sporting Charleroi   CHA             Bertrand Laquait   \n",
       "4 Sporting Lokeren     LOK             Boubacar Barry Copa\n",
       "5 Club Brugge KV       CLB             Stijn Stijnen      \n",
       "6 Beerschot AC         BAC             Silvio Proto       "
      ]
     },
     "metadata": {},
     "output_type": "display_data"
    }
   ],
   "source": [
    "# flatten the data\n",
    "flatten <- melt(match, id = others, measure = players, na.rm = TRUE, value.name = \"player_api_id\") %>% \n",
    "  mutate(team_api_id = \n",
    "         ifelse(grepl(\"home\",variable),home_team_api_id, \n",
    "         ifelse(grepl(\"away\",variable),away_team_api_id,NA))) %>%  \n",
    "  left_join(country, by = \"country_id\")    %>% \n",
    "  left_join(league,  by = \"country_id\")    %>%  \n",
    "  left_join(team,    by = \"team_api_id\")   %>%\n",
    "  left_join(player,  by = \"player_api_id\") %>% \n",
    "  separate(season, into = c(\"season_start\",\"season_end\"), sep = \"/\", convert = TRUE) \n",
    "head(flatten)"
   ]
  },
  {
   "cell_type": "code",
   "execution_count": 62,
   "metadata": {},
   "outputs": [
    {
     "data": {
      "text/html": [
       "<table class=\"dataframe\">\n",
       "<caption>A data.frame: 6 × 9</caption>\n",
       "<thead>\n",
       "\t<tr><th></th><th scope=col>season_start</th><th scope=col>season_end</th><th scope=col>player_api_id</th><th scope=col>team_api_id</th><th scope=col>team_long_name</th><th scope=col>team_short_name</th><th scope=col>player_name</th><th scope=col>country_name</th><th scope=col>league_name</th></tr>\n",
       "\t<tr><th></th><th scope=col>&lt;int&gt;</th><th scope=col>&lt;int&gt;</th><th scope=col>&lt;int&gt;</th><th scope=col>&lt;int&gt;</th><th scope=col>&lt;chr&gt;</th><th scope=col>&lt;chr&gt;</th><th scope=col>&lt;chr&gt;</th><th scope=col>&lt;chr&gt;</th><th scope=col>&lt;chr&gt;</th></tr>\n",
       "</thead>\n",
       "<tbody>\n",
       "\t<tr><th scope=row>1</th><td>2008</td><td>2009</td><td>39890</td><td>9996</td><td>Royal Excel Mouscron</td><td>MOU</td><td>Mark Volders       </td><td>Belgium</td><td>Belgium Jupiler League</td></tr>\n",
       "\t<tr><th scope=row>2</th><td>2008</td><td>2009</td><td>38327</td><td>8203</td><td>KV Mechelen         </td><td>MEC</td><td>Wouter Biebauw     </td><td>Belgium</td><td>Belgium Jupiler League</td></tr>\n",
       "\t<tr><th scope=row>3</th><td>2008</td><td>2009</td><td>95597</td><td>9986</td><td>Sporting Charleroi  </td><td>CHA</td><td>Bertrand Laquait   </td><td>Belgium</td><td>Belgium Jupiler League</td></tr>\n",
       "\t<tr><th scope=row>4</th><td>2008</td><td>2009</td><td>30934</td><td>9994</td><td>Sporting Lokeren    </td><td>LOK</td><td>Boubacar Barry Copa</td><td>Belgium</td><td>Belgium Jupiler League</td></tr>\n",
       "\t<tr><th scope=row>5</th><td>2008</td><td>2009</td><td>37990</td><td>8342</td><td>Club Brugge KV      </td><td>CLB</td><td>Stijn Stijnen      </td><td>Belgium</td><td>Belgium Jupiler League</td></tr>\n",
       "\t<tr><th scope=row>6</th><td>2008</td><td>2009</td><td>38391</td><td>9993</td><td>Beerschot AC        </td><td>BAC</td><td>Silvio Proto       </td><td>Belgium</td><td>Belgium Jupiler League</td></tr>\n",
       "</tbody>\n",
       "</table>\n"
      ],
      "text/latex": [
       "A data.frame: 6 × 9\n",
       "\\begin{tabular}{r|lllllllll}\n",
       "  & season\\_start & season\\_end & player\\_api\\_id & team\\_api\\_id & team\\_long\\_name & team\\_short\\_name & player\\_name & country\\_name & league\\_name\\\\\n",
       "  & <int> & <int> & <int> & <int> & <chr> & <chr> & <chr> & <chr> & <chr>\\\\\n",
       "\\hline\n",
       "\t1 & 2008 & 2009 & 39890 & 9996 & Royal Excel Mouscron & MOU & Mark Volders        & Belgium & Belgium Jupiler League\\\\\n",
       "\t2 & 2008 & 2009 & 38327 & 8203 & KV Mechelen          & MEC & Wouter Biebauw      & Belgium & Belgium Jupiler League\\\\\n",
       "\t3 & 2008 & 2009 & 95597 & 9986 & Sporting Charleroi   & CHA & Bertrand Laquait    & Belgium & Belgium Jupiler League\\\\\n",
       "\t4 & 2008 & 2009 & 30934 & 9994 & Sporting Lokeren     & LOK & Boubacar Barry Copa & Belgium & Belgium Jupiler League\\\\\n",
       "\t5 & 2008 & 2009 & 37990 & 8342 & Club Brugge KV       & CLB & Stijn Stijnen       & Belgium & Belgium Jupiler League\\\\\n",
       "\t6 & 2008 & 2009 & 38391 & 9993 & Beerschot AC         & BAC & Silvio Proto        & Belgium & Belgium Jupiler League\\\\\n",
       "\\end{tabular}\n"
      ],
      "text/markdown": [
       "\n",
       "A data.frame: 6 × 9\n",
       "\n",
       "| <!--/--> | season_start &lt;int&gt; | season_end &lt;int&gt; | player_api_id &lt;int&gt; | team_api_id &lt;int&gt; | team_long_name &lt;chr&gt; | team_short_name &lt;chr&gt; | player_name &lt;chr&gt; | country_name &lt;chr&gt; | league_name &lt;chr&gt; |\n",
       "|---|---|---|---|---|---|---|---|---|---|\n",
       "| 1 | 2008 | 2009 | 39890 | 9996 | Royal Excel Mouscron | MOU | Mark Volders        | Belgium | Belgium Jupiler League |\n",
       "| 2 | 2008 | 2009 | 38327 | 8203 | KV Mechelen          | MEC | Wouter Biebauw      | Belgium | Belgium Jupiler League |\n",
       "| 3 | 2008 | 2009 | 95597 | 9986 | Sporting Charleroi   | CHA | Bertrand Laquait    | Belgium | Belgium Jupiler League |\n",
       "| 4 | 2008 | 2009 | 30934 | 9994 | Sporting Lokeren     | LOK | Boubacar Barry Copa | Belgium | Belgium Jupiler League |\n",
       "| 5 | 2008 | 2009 | 37990 | 8342 | Club Brugge KV       | CLB | Stijn Stijnen       | Belgium | Belgium Jupiler League |\n",
       "| 6 | 2008 | 2009 | 38391 | 9993 | Beerschot AC         | BAC | Silvio Proto        | Belgium | Belgium Jupiler League |\n",
       "\n"
      ],
      "text/plain": [
       "  season_start season_end player_api_id team_api_id team_long_name      \n",
       "1 2008         2009       39890         9996        Royal Excel Mouscron\n",
       "2 2008         2009       38327         8203        KV Mechelen         \n",
       "3 2008         2009       95597         9986        Sporting Charleroi  \n",
       "4 2008         2009       30934         9994        Sporting Lokeren    \n",
       "5 2008         2009       37990         8342        Club Brugge KV      \n",
       "6 2008         2009       38391         9993        Beerschot AC        \n",
       "  team_short_name player_name         country_name league_name           \n",
       "1 MOU             Mark Volders        Belgium      Belgium Jupiler League\n",
       "2 MEC             Wouter Biebauw      Belgium      Belgium Jupiler League\n",
       "3 CHA             Bertrand Laquait    Belgium      Belgium Jupiler League\n",
       "4 LOK             Boubacar Barry Copa Belgium      Belgium Jupiler League\n",
       "5 CLB             Stijn Stijnen       Belgium      Belgium Jupiler League\n",
       "6 BAC             Silvio Proto        Belgium      Belgium Jupiler League"
      ]
     },
     "metadata": {},
     "output_type": "display_data"
    }
   ],
   "source": [
    "team_players <- select(flatten, season_start, season_end, country_name, league_name, player_api_id, team_api_id, team_long_name, team_short_name, player_name)\n",
    "head(team_players)"
   ]
  },
  {
   "cell_type": "code",
   "execution_count": 75,
   "metadata": {},
   "outputs": [
    {
     "data": {
      "text/html": [
       "<table class=\"dataframe\">\n",
       "<caption>A data.frame: 6 × 9</caption>\n",
       "<thead>\n",
       "\t<tr><th></th><th scope=col>season_start</th><th scope=col>season_end</th><th scope=col>player_api_id</th><th scope=col>team_api_id</th><th scope=col>team_long_name</th><th scope=col>team_short_name</th><th scope=col>player_name</th><th scope=col>country_name</th><th scope=col>league_name</th></tr>\n",
       "\t<tr><th></th><th scope=col>&lt;int&gt;</th><th scope=col>&lt;int&gt;</th><th scope=col>&lt;int&gt;</th><th scope=col>&lt;int&gt;</th><th scope=col>&lt;chr&gt;</th><th scope=col>&lt;chr&gt;</th><th scope=col>&lt;chr&gt;</th><th scope=col>&lt;chr&gt;</th><th scope=col>&lt;chr&gt;</th></tr>\n",
       "</thead>\n",
       "<tbody>\n",
       "\t<tr><th scope=row>1</th><td>2015</td><td>2016</td><td>242243</td><td> 9997</td><td>Sint-Truidense VV</td><td>STT</td><td>William Dutoit      </td><td>Belgium</td><td>Belgium Jupiler League</td></tr>\n",
       "\t<tr><th scope=row>2</th><td>2015</td><td>2016</td><td>206592</td><td> 8571</td><td>KV Kortrijk      </td><td>KOR</td><td>Darren Keet         </td><td>Belgium</td><td>Belgium Jupiler League</td></tr>\n",
       "\t<tr><th scope=row>3</th><td>2015</td><td>2016</td><td> 91929</td><td> 9987</td><td>KRC Genk         </td><td>GEN</td><td>Laszlo Koteles      </td><td>Belgium</td><td>Belgium Jupiler League</td></tr>\n",
       "\t<tr><th scope=row>4</th><td>2015</td><td>2016</td><td>107806</td><td> 8573</td><td>KV Oostende      </td><td>OOS</td><td>Didier Ovono        </td><td>Belgium</td><td>Belgium Jupiler League</td></tr>\n",
       "\t<tr><th scope=row>5</th><td>2015</td><td>2016</td><td> 37900</td><td>10000</td><td>SV Zulte-Waregem </td><td>ZUL</td><td>Sammy Bossuyt       </td><td>Belgium</td><td>Belgium Jupiler League</td></tr>\n",
       "\t<tr><th scope=row>6</th><td>2015</td><td>2016</td><td>346114</td><td>10001</td><td>KVC Westerlo     </td><td>WES</td><td>Koen Van Langendonck</td><td>Belgium</td><td>Belgium Jupiler League</td></tr>\n",
       "</tbody>\n",
       "</table>\n"
      ],
      "text/latex": [
       "A data.frame: 6 × 9\n",
       "\\begin{tabular}{r|lllllllll}\n",
       "  & season\\_start & season\\_end & player\\_api\\_id & team\\_api\\_id & team\\_long\\_name & team\\_short\\_name & player\\_name & country\\_name & league\\_name\\\\\n",
       "  & <int> & <int> & <int> & <int> & <chr> & <chr> & <chr> & <chr> & <chr>\\\\\n",
       "\\hline\n",
       "\t1 & 2015 & 2016 & 242243 &  9997 & Sint-Truidense VV & STT & William Dutoit       & Belgium & Belgium Jupiler League\\\\\n",
       "\t2 & 2015 & 2016 & 206592 &  8571 & KV Kortrijk       & KOR & Darren Keet          & Belgium & Belgium Jupiler League\\\\\n",
       "\t3 & 2015 & 2016 &  91929 &  9987 & KRC Genk          & GEN & Laszlo Koteles       & Belgium & Belgium Jupiler League\\\\\n",
       "\t4 & 2015 & 2016 & 107806 &  8573 & KV Oostende       & OOS & Didier Ovono         & Belgium & Belgium Jupiler League\\\\\n",
       "\t5 & 2015 & 2016 &  37900 & 10000 & SV Zulte-Waregem  & ZUL & Sammy Bossuyt        & Belgium & Belgium Jupiler League\\\\\n",
       "\t6 & 2015 & 2016 & 346114 & 10001 & KVC Westerlo      & WES & Koen Van Langendonck & Belgium & Belgium Jupiler League\\\\\n",
       "\\end{tabular}\n"
      ],
      "text/markdown": [
       "\n",
       "A data.frame: 6 × 9\n",
       "\n",
       "| <!--/--> | season_start &lt;int&gt; | season_end &lt;int&gt; | player_api_id &lt;int&gt; | team_api_id &lt;int&gt; | team_long_name &lt;chr&gt; | team_short_name &lt;chr&gt; | player_name &lt;chr&gt; | country_name &lt;chr&gt; | league_name &lt;chr&gt; |\n",
       "|---|---|---|---|---|---|---|---|---|---|\n",
       "| 1 | 2015 | 2016 | 242243 |  9997 | Sint-Truidense VV | STT | William Dutoit       | Belgium | Belgium Jupiler League |\n",
       "| 2 | 2015 | 2016 | 206592 |  8571 | KV Kortrijk       | KOR | Darren Keet          | Belgium | Belgium Jupiler League |\n",
       "| 3 | 2015 | 2016 |  91929 |  9987 | KRC Genk          | GEN | Laszlo Koteles       | Belgium | Belgium Jupiler League |\n",
       "| 4 | 2015 | 2016 | 107806 |  8573 | KV Oostende       | OOS | Didier Ovono         | Belgium | Belgium Jupiler League |\n",
       "| 5 | 2015 | 2016 |  37900 | 10000 | SV Zulte-Waregem  | ZUL | Sammy Bossuyt        | Belgium | Belgium Jupiler League |\n",
       "| 6 | 2015 | 2016 | 346114 | 10001 | KVC Westerlo      | WES | Koen Van Langendonck | Belgium | Belgium Jupiler League |\n",
       "\n"
      ],
      "text/plain": [
       "  season_start season_end player_api_id team_api_id team_long_name   \n",
       "1 2015         2016       242243         9997       Sint-Truidense VV\n",
       "2 2015         2016       206592         8571       KV Kortrijk      \n",
       "3 2015         2016        91929         9987       KRC Genk         \n",
       "4 2015         2016       107806         8573       KV Oostende      \n",
       "5 2015         2016        37900        10000       SV Zulte-Waregem \n",
       "6 2015         2016       346114        10001       KVC Westerlo     \n",
       "  team_short_name player_name          country_name league_name           \n",
       "1 STT             William Dutoit       Belgium      Belgium Jupiler League\n",
       "2 KOR             Darren Keet          Belgium      Belgium Jupiler League\n",
       "3 GEN             Laszlo Koteles       Belgium      Belgium Jupiler League\n",
       "4 OOS             Didier Ovono         Belgium      Belgium Jupiler League\n",
       "5 ZUL             Sammy Bossuyt        Belgium      Belgium Jupiler League\n",
       "6 WES             Koen Van Langendonck Belgium      Belgium Jupiler League"
      ]
     },
     "metadata": {},
     "output_type": "display_data"
    },
    {
     "data": {
      "text/html": [
       "<table class=\"dataframe\">\n",
       "<caption>A data.frame: 6 × 9</caption>\n",
       "<thead>\n",
       "\t<tr><th></th><th scope=col>season_start</th><th scope=col>season_end</th><th scope=col>player_api_id</th><th scope=col>team_api_id</th><th scope=col>team_long_name</th><th scope=col>team_short_name</th><th scope=col>player_name</th><th scope=col>country_name</th><th scope=col>league_name</th></tr>\n",
       "\t<tr><th></th><th scope=col>&lt;int&gt;</th><th scope=col>&lt;int&gt;</th><th scope=col>&lt;int&gt;</th><th scope=col>&lt;int&gt;</th><th scope=col>&lt;chr&gt;</th><th scope=col>&lt;chr&gt;</th><th scope=col>&lt;chr&gt;</th><th scope=col>&lt;chr&gt;</th><th scope=col>&lt;chr&gt;</th></tr>\n",
       "</thead>\n",
       "<tbody>\n",
       "\t<tr><th scope=row>1</th><td>2014</td><td>2015</td><td> 20747</td><td> 9985</td><td>Standard de Liège</td><td>STL</td><td>Eiji Kawashima      </td><td>Belgium</td><td>Belgium Jupiler League</td></tr>\n",
       "\t<tr><th scope=row>2</th><td>2014</td><td>2015</td><td>208699</td><td> 8475</td><td>Waasland-Beveren </td><td>WAA</td><td>Colin Coosemans     </td><td>Belgium</td><td>Belgium Jupiler League</td></tr>\n",
       "\t<tr><th scope=row>3</th><td>2014</td><td>2015</td><td> 67949</td><td> 9984</td><td>KSV Cercle Brugge</td><td>CEB</td><td>Olivier Werner      </td><td>Belgium</td><td>Belgium Jupiler League</td></tr>\n",
       "\t<tr><th scope=row>4</th><td>2014</td><td>2015</td><td>270473</td><td> 9989</td><td>Lierse SK        </td><td>LIE</td><td>Igor Berezovsky     </td><td>Belgium</td><td>Belgium Jupiler League</td></tr>\n",
       "\t<tr><th scope=row>5</th><td>2014</td><td>2015</td><td>346114</td><td>10001</td><td>KVC Westerlo     </td><td>WES</td><td>Koen Van Langendonck</td><td>Belgium</td><td>Belgium Jupiler League</td></tr>\n",
       "\t<tr><th scope=row>6</th><td>2014</td><td>2015</td><td> 13131</td><td> 8203</td><td>KV Mechelen      </td><td>MEC</td><td>Tomislav Pacovski   </td><td>Belgium</td><td>Belgium Jupiler League</td></tr>\n",
       "</tbody>\n",
       "</table>\n"
      ],
      "text/latex": [
       "A data.frame: 6 × 9\n",
       "\\begin{tabular}{r|lllllllll}\n",
       "  & season\\_start & season\\_end & player\\_api\\_id & team\\_api\\_id & team\\_long\\_name & team\\_short\\_name & player\\_name & country\\_name & league\\_name\\\\\n",
       "  & <int> & <int> & <int> & <int> & <chr> & <chr> & <chr> & <chr> & <chr>\\\\\n",
       "\\hline\n",
       "\t1 & 2014 & 2015 &  20747 &  9985 & Standard de Liège & STL & Eiji Kawashima       & Belgium & Belgium Jupiler League\\\\\n",
       "\t2 & 2014 & 2015 & 208699 &  8475 & Waasland-Beveren  & WAA & Colin Coosemans      & Belgium & Belgium Jupiler League\\\\\n",
       "\t3 & 2014 & 2015 &  67949 &  9984 & KSV Cercle Brugge & CEB & Olivier Werner       & Belgium & Belgium Jupiler League\\\\\n",
       "\t4 & 2014 & 2015 & 270473 &  9989 & Lierse SK         & LIE & Igor Berezovsky      & Belgium & Belgium Jupiler League\\\\\n",
       "\t5 & 2014 & 2015 & 346114 & 10001 & KVC Westerlo      & WES & Koen Van Langendonck & Belgium & Belgium Jupiler League\\\\\n",
       "\t6 & 2014 & 2015 &  13131 &  8203 & KV Mechelen       & MEC & Tomislav Pacovski    & Belgium & Belgium Jupiler League\\\\\n",
       "\\end{tabular}\n"
      ],
      "text/markdown": [
       "\n",
       "A data.frame: 6 × 9\n",
       "\n",
       "| <!--/--> | season_start &lt;int&gt; | season_end &lt;int&gt; | player_api_id &lt;int&gt; | team_api_id &lt;int&gt; | team_long_name &lt;chr&gt; | team_short_name &lt;chr&gt; | player_name &lt;chr&gt; | country_name &lt;chr&gt; | league_name &lt;chr&gt; |\n",
       "|---|---|---|---|---|---|---|---|---|---|\n",
       "| 1 | 2014 | 2015 |  20747 |  9985 | Standard de Liège | STL | Eiji Kawashima       | Belgium | Belgium Jupiler League |\n",
       "| 2 | 2014 | 2015 | 208699 |  8475 | Waasland-Beveren  | WAA | Colin Coosemans      | Belgium | Belgium Jupiler League |\n",
       "| 3 | 2014 | 2015 |  67949 |  9984 | KSV Cercle Brugge | CEB | Olivier Werner       | Belgium | Belgium Jupiler League |\n",
       "| 4 | 2014 | 2015 | 270473 |  9989 | Lierse SK         | LIE | Igor Berezovsky      | Belgium | Belgium Jupiler League |\n",
       "| 5 | 2014 | 2015 | 346114 | 10001 | KVC Westerlo      | WES | Koen Van Langendonck | Belgium | Belgium Jupiler League |\n",
       "| 6 | 2014 | 2015 |  13131 |  8203 | KV Mechelen       | MEC | Tomislav Pacovski    | Belgium | Belgium Jupiler League |\n",
       "\n"
      ],
      "text/plain": [
       "  season_start season_end player_api_id team_api_id team_long_name   \n",
       "1 2014         2015        20747         9985       Standard de Liège\n",
       "2 2014         2015       208699         8475       Waasland-Beveren \n",
       "3 2014         2015        67949         9984       KSV Cercle Brugge\n",
       "4 2014         2015       270473         9989       Lierse SK        \n",
       "5 2014         2015       346114        10001       KVC Westerlo     \n",
       "6 2014         2015        13131         8203       KV Mechelen      \n",
       "  team_short_name player_name          country_name league_name           \n",
       "1 STL             Eiji Kawashima       Belgium      Belgium Jupiler League\n",
       "2 WAA             Colin Coosemans      Belgium      Belgium Jupiler League\n",
       "3 CEB             Olivier Werner       Belgium      Belgium Jupiler League\n",
       "4 LIE             Igor Berezovsky      Belgium      Belgium Jupiler League\n",
       "5 WES             Koen Van Langendonck Belgium      Belgium Jupiler League\n",
       "6 MEC             Tomislav Pacovski    Belgium      Belgium Jupiler League"
      ]
     },
     "metadata": {},
     "output_type": "display_data"
    }
   ],
   "source": [
    "team_players_2015 <- team_players %>% filter(season_start == 2015)\n",
    "head(team_players_2015)\n",
    "team_players_2014 <- team_players %>% filter(season_start == 2014)\n",
    "head(team_players_2014)"
   ]
  }
 ],
 "metadata": {
  "kernelspec": {
   "display_name": "R 4.0.0",
   "language": "R",
   "name": "ir35"
  },
  "language_info": {
   "codemirror_mode": "r",
   "file_extension": ".r",
   "mimetype": "text/x-r-source",
   "name": "R",
   "pygments_lexer": "r",
   "version": "3.6.1"
  }
 },
 "nbformat": 4,
 "nbformat_minor": 4
}
