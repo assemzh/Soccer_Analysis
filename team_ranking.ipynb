{
 "cells": [
  {
   "cell_type": "code",
   "execution_count": 1,
   "metadata": {
    "execution": {
     "iopub.execute_input": "2020-11-19T15:24:14.878658Z",
     "iopub.status.busy": "2020-11-19T15:24:14.876587Z",
     "iopub.status.idle": "2020-11-19T15:24:16.198150Z",
     "shell.execute_reply": "2020-11-19T15:24:16.196579Z"
    },
    "papermill": {
     "duration": 1.365669,
     "end_time": "2020-11-19T15:24:16.198375",
     "exception": false,
     "start_time": "2020-11-19T15:24:14.832706",
     "status": "completed"
    },
    "tags": []
   },
   "outputs": [
    {
     "name": "stderr",
     "output_type": "stream",
     "text": [
      "── \u001b[1mAttaching packages\u001b[22m ─────────────────────────────────────── tidyverse 1.3.0 ──\n",
      "\n",
      "\u001b[32m✔\u001b[39m \u001b[34mggplot2\u001b[39m 3.3.2     \u001b[32m✔\u001b[39m \u001b[34mpurrr  \u001b[39m 0.3.4\n",
      "\u001b[32m✔\u001b[39m \u001b[34mtibble \u001b[39m 3.0.4     \u001b[32m✔\u001b[39m \u001b[34mdplyr  \u001b[39m 1.0.2\n",
      "\u001b[32m✔\u001b[39m \u001b[34mtidyr  \u001b[39m 1.1.2     \u001b[32m✔\u001b[39m \u001b[34mstringr\u001b[39m 1.4.0\n",
      "\u001b[32m✔\u001b[39m \u001b[34mreadr  \u001b[39m 1.4.0     \u001b[32m✔\u001b[39m \u001b[34mforcats\u001b[39m 0.5.0\n",
      "\n",
      "── \u001b[1mConflicts\u001b[22m ────────────────────────────────────────── tidyverse_conflicts() ──\n",
      "\u001b[31m✖\u001b[39m \u001b[34mdplyr\u001b[39m::\u001b[32mfilter()\u001b[39m masks \u001b[34mstats\u001b[39m::filter()\n",
      "\u001b[31m✖\u001b[39m \u001b[34mdplyr\u001b[39m::\u001b[32mlag()\u001b[39m    masks \u001b[34mstats\u001b[39m::lag()\n",
      "\n",
      "\n",
      "Attaching package: ‘reshape2’\n",
      "\n",
      "\n",
      "The following object is masked from ‘package:tidyr’:\n",
      "\n",
      "    smiths\n",
      "\n",
      "\n"
     ]
    }
   ],
   "source": [
    "library(tidyverse)\n",
    "library(reshape2)"
   ]
  },
  {
   "cell_type": "code",
   "execution_count": 2,
   "metadata": {
    "_cell_guid": "79c7e3d0-c299-4dcb-8224-4455121ee9b0",
    "_uuid": "d629ff2d2480ee46fbb7e2d37f6b5fab8052498a",
    "execution": {
     "iopub.execute_input": "2020-11-19T15:24:16.263124Z",
     "iopub.status.busy": "2020-11-19T15:24:16.229480Z",
     "iopub.status.idle": "2020-11-19T15:24:27.460041Z",
     "shell.execute_reply": "2020-11-19T15:24:27.458439Z"
    },
    "papermill": {
     "duration": 11.247855,
     "end_time": "2020-11-19T15:24:27.460268",
     "exception": false,
     "start_time": "2020-11-19T15:24:16.212413",
     "status": "completed"
    },
    "tags": []
   },
   "outputs": [],
   "source": [
    "library(\"RSQLite\")\n",
    "\n",
    "## connect to db\n",
    "con <- dbConnect(drv=RSQLite::SQLite(), dbname=\"../input/soccer/database.sqlite\")\n",
    "\n",
    "## list all tables\n",
    "tables <- dbListTables(con)\n",
    "\n",
    "## exclude sqlite_sequence (contains table information)\n",
    "tables <- tables[tables != \"sqlite_sequence\"]\n",
    "\n",
    "lDataFrames <- vector(\"list\", length=length(tables))\n",
    "\n",
    "## create a data.frame for each table\n",
    "for (i in seq(along=tables)) {\n",
    "  lDataFrames[[i]] <- dbGetQuery(conn=con, statement=paste(\"SELECT * FROM '\", tables[[i]], \"'\", sep=\"\"))\n",
    "}\n",
    "\n"
   ]
  },
  {
   "cell_type": "code",
   "execution_count": 3,
   "metadata": {
    "execution": {
     "iopub.execute_input": "2020-11-19T15:24:27.492938Z",
     "iopub.status.busy": "2020-11-19T15:24:27.491439Z",
     "iopub.status.idle": "2020-11-19T15:24:27.508081Z",
     "shell.execute_reply": "2020-11-19T15:24:27.506848Z"
    },
    "papermill": {
     "duration": 0.034078,
     "end_time": "2020-11-19T15:24:27.508266",
     "exception": false,
     "start_time": "2020-11-19T15:24:27.474188",
     "status": "completed"
    },
    "tags": []
   },
   "outputs": [],
   "source": [
    "match <- data.frame(lDataFrames[3])\n",
    "team <- data.frame(lDataFrames[6])\n",
    "# head(match,2)\n",
    "# head(team,2)\n"
   ]
  },
  {
   "cell_type": "code",
   "execution_count": 4,
   "metadata": {
    "execution": {
     "iopub.execute_input": "2020-11-19T15:24:27.540660Z",
     "iopub.status.busy": "2020-11-19T15:24:27.539249Z",
     "iopub.status.idle": "2020-11-19T15:24:27.571230Z",
     "shell.execute_reply": "2020-11-19T15:24:27.569926Z"
    },
    "papermill": {
     "duration": 0.04941,
     "end_time": "2020-11-19T15:24:27.571413",
     "exception": false,
     "start_time": "2020-11-19T15:24:27.522003",
     "status": "completed"
    },
    "tags": []
   },
   "outputs": [],
   "source": [
    "match <- match %>% select(match_api_id,date,home_team_api_id,away_team_api_id,home_team_goal, away_team_goal)\n",
    "team <- team %>% select(team_api_id,team_long_name)\n"
   ]
  },
  {
   "cell_type": "code",
   "execution_count": 5,
   "metadata": {
    "execution": {
     "iopub.execute_input": "2020-11-19T15:24:27.603494Z",
     "iopub.status.busy": "2020-11-19T15:24:27.602222Z",
     "iopub.status.idle": "2020-11-19T15:24:27.986056Z",
     "shell.execute_reply": "2020-11-19T15:24:27.984821Z"
    },
    "papermill": {
     "duration": 0.401252,
     "end_time": "2020-11-19T15:24:27.986304",
     "exception": false,
     "start_time": "2020-11-19T15:24:27.585052",
     "status": "completed"
    },
    "tags": []
   },
   "outputs": [
    {
     "data": {
      "text/html": [
       "<table class=\"dataframe\">\n",
       "<caption>A data.frame: 6 × 10</caption>\n",
       "<thead>\n",
       "\t<tr><th></th><th scope=col>match_api_id</th><th scope=col>date</th><th scope=col>home_team_api_id</th><th scope=col>away_team_api_id</th><th scope=col>home_team_goal</th><th scope=col>away_team_goal</th><th scope=col>home_score</th><th scope=col>away_score</th><th scope=col>home_win_rate</th><th scope=col>away_win_rate</th></tr>\n",
       "\t<tr><th></th><th scope=col>&lt;int&gt;</th><th scope=col>&lt;chr&gt;</th><th scope=col>&lt;int&gt;</th><th scope=col>&lt;int&gt;</th><th scope=col>&lt;int&gt;</th><th scope=col>&lt;int&gt;</th><th scope=col>&lt;int&gt;</th><th scope=col>&lt;int&gt;</th><th scope=col>&lt;int&gt;</th><th scope=col>&lt;int&gt;</th></tr>\n",
       "</thead>\n",
       "<tbody>\n",
       "\t<tr><th scope=row>1</th><td>492473</td><td>2008-08-17 00:00:00</td><td> 9987</td><td>9993</td><td>1</td><td>1</td><td> 0</td><td> 0</td><td>0</td><td>0</td></tr>\n",
       "\t<tr><th scope=row>2</th><td>492474</td><td>2008-08-16 00:00:00</td><td>10000</td><td>9994</td><td>0</td><td>0</td><td> 0</td><td> 0</td><td>0</td><td>0</td></tr>\n",
       "\t<tr><th scope=row>3</th><td>492475</td><td>2008-08-16 00:00:00</td><td> 9984</td><td>8635</td><td>0</td><td>3</td><td>-3</td><td> 3</td><td>0</td><td>1</td></tr>\n",
       "\t<tr><th scope=row>4</th><td>492476</td><td>2008-08-17 00:00:00</td><td> 9991</td><td>9998</td><td>5</td><td>0</td><td> 5</td><td>-5</td><td>1</td><td>0</td></tr>\n",
       "\t<tr><th scope=row>5</th><td>492477</td><td>2008-08-16 00:00:00</td><td> 7947</td><td>9985</td><td>1</td><td>3</td><td>-2</td><td> 2</td><td>0</td><td>1</td></tr>\n",
       "\t<tr><th scope=row>6</th><td>492478</td><td>2008-09-24 00:00:00</td><td> 8203</td><td>8342</td><td>1</td><td>1</td><td> 0</td><td> 0</td><td>0</td><td>0</td></tr>\n",
       "</tbody>\n",
       "</table>\n"
      ],
      "text/latex": [
       "A data.frame: 6 × 10\n",
       "\\begin{tabular}{r|llllllllll}\n",
       "  & match\\_api\\_id & date & home\\_team\\_api\\_id & away\\_team\\_api\\_id & home\\_team\\_goal & away\\_team\\_goal & home\\_score & away\\_score & home\\_win\\_rate & away\\_win\\_rate\\\\\n",
       "  & <int> & <chr> & <int> & <int> & <int> & <int> & <int> & <int> & <int> & <int>\\\\\n",
       "\\hline\n",
       "\t1 & 492473 & 2008-08-17 00:00:00 &  9987 & 9993 & 1 & 1 &  0 &  0 & 0 & 0\\\\\n",
       "\t2 & 492474 & 2008-08-16 00:00:00 & 10000 & 9994 & 0 & 0 &  0 &  0 & 0 & 0\\\\\n",
       "\t3 & 492475 & 2008-08-16 00:00:00 &  9984 & 8635 & 0 & 3 & -3 &  3 & 0 & 1\\\\\n",
       "\t4 & 492476 & 2008-08-17 00:00:00 &  9991 & 9998 & 5 & 0 &  5 & -5 & 1 & 0\\\\\n",
       "\t5 & 492477 & 2008-08-16 00:00:00 &  7947 & 9985 & 1 & 3 & -2 &  2 & 0 & 1\\\\\n",
       "\t6 & 492478 & 2008-09-24 00:00:00 &  8203 & 8342 & 1 & 1 &  0 &  0 & 0 & 0\\\\\n",
       "\\end{tabular}\n"
      ],
      "text/markdown": [
       "\n",
       "A data.frame: 6 × 10\n",
       "\n",
       "| <!--/--> | match_api_id &lt;int&gt; | date &lt;chr&gt; | home_team_api_id &lt;int&gt; | away_team_api_id &lt;int&gt; | home_team_goal &lt;int&gt; | away_team_goal &lt;int&gt; | home_score &lt;int&gt; | away_score &lt;int&gt; | home_win_rate &lt;int&gt; | away_win_rate &lt;int&gt; |\n",
       "|---|---|---|---|---|---|---|---|---|---|---|\n",
       "| 1 | 492473 | 2008-08-17 00:00:00 |  9987 | 9993 | 1 | 1 |  0 |  0 | 0 | 0 |\n",
       "| 2 | 492474 | 2008-08-16 00:00:00 | 10000 | 9994 | 0 | 0 |  0 |  0 | 0 | 0 |\n",
       "| 3 | 492475 | 2008-08-16 00:00:00 |  9984 | 8635 | 0 | 3 | -3 |  3 | 0 | 1 |\n",
       "| 4 | 492476 | 2008-08-17 00:00:00 |  9991 | 9998 | 5 | 0 |  5 | -5 | 1 | 0 |\n",
       "| 5 | 492477 | 2008-08-16 00:00:00 |  7947 | 9985 | 1 | 3 | -2 |  2 | 0 | 1 |\n",
       "| 6 | 492478 | 2008-09-24 00:00:00 |  8203 | 8342 | 1 | 1 |  0 |  0 | 0 | 0 |\n",
       "\n"
      ],
      "text/plain": [
       "  match_api_id date                home_team_api_id away_team_api_id\n",
       "1 492473       2008-08-17 00:00:00  9987            9993            \n",
       "2 492474       2008-08-16 00:00:00 10000            9994            \n",
       "3 492475       2008-08-16 00:00:00  9984            8635            \n",
       "4 492476       2008-08-17 00:00:00  9991            9998            \n",
       "5 492477       2008-08-16 00:00:00  7947            9985            \n",
       "6 492478       2008-09-24 00:00:00  8203            8342            \n",
       "  home_team_goal away_team_goal home_score away_score home_win_rate\n",
       "1 1              1               0          0         0            \n",
       "2 0              0               0          0         0            \n",
       "3 0              3              -3          3         0            \n",
       "4 5              0               5         -5         1            \n",
       "5 1              3              -2          2         0            \n",
       "6 1              1               0          0         0            \n",
       "  away_win_rate\n",
       "1 0            \n",
       "2 0            \n",
       "3 1            \n",
       "4 0            \n",
       "5 1            \n",
       "6 0            "
      ]
     },
     "metadata": {},
     "output_type": "display_data"
    }
   ],
   "source": [
    "match$home_score <- (match$home_team_goal - match$away_team_goal)\n",
    "match$away_score <- - match$home_score\n",
    "match$home_win_rate <- as.integer(as.logical(match$home_score>0))\n",
    "match$away_win_rate <- as.integer(as.logical(match$away_score>0))\n",
    "head(match,6)\n"
   ]
  },
  {
   "cell_type": "code",
   "execution_count": 6,
   "metadata": {
    "execution": {
     "iopub.execute_input": "2020-11-19T15:24:28.022804Z",
     "iopub.status.busy": "2020-11-19T15:24:28.021228Z",
     "iopub.status.idle": "2020-11-19T15:24:28.050702Z",
     "shell.execute_reply": "2020-11-19T15:24:28.049639Z"
    },
    "papermill": {
     "duration": 0.049471,
     "end_time": "2020-11-19T15:24:28.050897",
     "exception": false,
     "start_time": "2020-11-19T15:24:28.001426",
     "status": "completed"
    },
    "tags": []
   },
   "outputs": [],
   "source": [
    "match_home <- match %>% select(match_api_id,date,home_team_api_id,home_score,home_win_rate) %>% \n",
    "  rename(\n",
    "    team_api_id = home_team_api_id,\n",
    "    score = home_score,\n",
    "    win_rate = home_win_rate\n",
    "    )\n",
    "match_away <- match %>% select(match_api_id,date,away_team_api_id,away_score, away_win_rate) %>% \n",
    "  rename(\n",
    "    team_api_id = away_team_api_id,\n",
    "    score = away_score,\n",
    "    win_rate = away_win_rate\n",
    "    )"
   ]
  },
  {
   "cell_type": "code",
   "execution_count": 7,
   "metadata": {
    "execution": {
     "iopub.execute_input": "2020-11-19T15:24:28.086053Z",
     "iopub.status.busy": "2020-11-19T15:24:28.084525Z",
     "iopub.status.idle": "2020-11-19T15:24:28.366782Z",
     "shell.execute_reply": "2020-11-19T15:24:28.365169Z"
    },
    "papermill": {
     "duration": 0.300966,
     "end_time": "2020-11-19T15:24:28.366960",
     "exception": false,
     "start_time": "2020-11-19T15:24:28.065994",
     "status": "completed"
    },
    "tags": []
   },
   "outputs": [
    {
     "data": {
      "text/html": [
       "<table class=\"dataframe\">\n",
       "<caption>A data.frame: 6 × 5</caption>\n",
       "<thead>\n",
       "\t<tr><th></th><th scope=col>match_api_id</th><th scope=col>date</th><th scope=col>team_api_id</th><th scope=col>score</th><th scope=col>win_rate</th></tr>\n",
       "\t<tr><th></th><th scope=col>&lt;int&gt;</th><th scope=col>&lt;date&gt;</th><th scope=col>&lt;int&gt;</th><th scope=col>&lt;int&gt;</th><th scope=col>&lt;int&gt;</th></tr>\n",
       "</thead>\n",
       "<tbody>\n",
       "\t<tr><th scope=row>1</th><td>483129</td><td>2008-08-09</td><td>8583</td><td> 1</td><td>1</td></tr>\n",
       "\t<tr><th scope=row>2</th><td>483129</td><td>2008-08-09</td><td>9830</td><td>-1</td><td>0</td></tr>\n",
       "\t<tr><th scope=row>3</th><td>483130</td><td>2008-08-09</td><td>9827</td><td> 1</td><td>1</td></tr>\n",
       "\t<tr><th scope=row>4</th><td>483130</td><td>2008-08-09</td><td>7819</td><td>-1</td><td>0</td></tr>\n",
       "\t<tr><th scope=row>5</th><td>483131</td><td>2008-08-09</td><td>9746</td><td> 1</td><td>1</td></tr>\n",
       "\t<tr><th scope=row>6</th><td>483131</td><td>2008-08-09</td><td>9831</td><td>-1</td><td>0</td></tr>\n",
       "</tbody>\n",
       "</table>\n"
      ],
      "text/latex": [
       "A data.frame: 6 × 5\n",
       "\\begin{tabular}{r|lllll}\n",
       "  & match\\_api\\_id & date & team\\_api\\_id & score & win\\_rate\\\\\n",
       "  & <int> & <date> & <int> & <int> & <int>\\\\\n",
       "\\hline\n",
       "\t1 & 483129 & 2008-08-09 & 8583 &  1 & 1\\\\\n",
       "\t2 & 483129 & 2008-08-09 & 9830 & -1 & 0\\\\\n",
       "\t3 & 483130 & 2008-08-09 & 9827 &  1 & 1\\\\\n",
       "\t4 & 483130 & 2008-08-09 & 7819 & -1 & 0\\\\\n",
       "\t5 & 483131 & 2008-08-09 & 9746 &  1 & 1\\\\\n",
       "\t6 & 483131 & 2008-08-09 & 9831 & -1 & 0\\\\\n",
       "\\end{tabular}\n"
      ],
      "text/markdown": [
       "\n",
       "A data.frame: 6 × 5\n",
       "\n",
       "| <!--/--> | match_api_id &lt;int&gt; | date &lt;date&gt; | team_api_id &lt;int&gt; | score &lt;int&gt; | win_rate &lt;int&gt; |\n",
       "|---|---|---|---|---|---|\n",
       "| 1 | 483129 | 2008-08-09 | 8583 |  1 | 1 |\n",
       "| 2 | 483129 | 2008-08-09 | 9830 | -1 | 0 |\n",
       "| 3 | 483130 | 2008-08-09 | 9827 |  1 | 1 |\n",
       "| 4 | 483130 | 2008-08-09 | 7819 | -1 | 0 |\n",
       "| 5 | 483131 | 2008-08-09 | 9746 |  1 | 1 |\n",
       "| 6 | 483131 | 2008-08-09 | 9831 | -1 | 0 |\n",
       "\n"
      ],
      "text/plain": [
       "  match_api_id date       team_api_id score win_rate\n",
       "1 483129       2008-08-09 8583         1    1       \n",
       "2 483129       2008-08-09 9830        -1    0       \n",
       "3 483130       2008-08-09 9827         1    1       \n",
       "4 483130       2008-08-09 7819        -1    0       \n",
       "5 483131       2008-08-09 9746         1    1       \n",
       "6 483131       2008-08-09 9831        -1    0       "
      ]
     },
     "metadata": {},
     "output_type": "display_data"
    }
   ],
   "source": [
    "total <- rbind(match_home, match_away)\n",
    "total$date <- as.Date(total$date)\n",
    "head(arrange(total,match_api_id))"
   ]
  },
  {
   "cell_type": "code",
   "execution_count": 8,
   "metadata": {
    "execution": {
     "iopub.execute_input": "2020-11-19T15:24:28.405034Z",
     "iopub.status.busy": "2020-11-19T15:24:28.403367Z",
     "iopub.status.idle": "2020-11-19T15:24:28.435852Z",
     "shell.execute_reply": "2020-11-19T15:24:28.434821Z"
    },
    "papermill": {
     "duration": 0.053042,
     "end_time": "2020-11-19T15:24:28.436006",
     "exception": false,
     "start_time": "2020-11-19T15:24:28.382964",
     "status": "completed"
    },
    "tags": []
   },
   "outputs": [],
   "source": [
    "match14 = with(total, total[(date >= \"2014-01-01\" & date < \"2015-01-01\"),])\n",
    "match15 = with(total, total[(date >= \"2015-01-01\" & date < \"2016-01-01\"),])\n",
    "                            "
   ]
  },
  {
   "cell_type": "code",
   "execution_count": 9,
   "metadata": {
    "execution": {
     "iopub.execute_input": "2020-11-19T15:24:28.473176Z",
     "iopub.status.busy": "2020-11-19T15:24:28.471799Z",
     "iopub.status.idle": "2020-11-19T15:24:28.486068Z",
     "shell.execute_reply": "2020-11-19T15:24:28.485050Z"
    },
    "papermill": {
     "duration": 0.034042,
     "end_time": "2020-11-19T15:24:28.486230",
     "exception": false,
     "start_time": "2020-11-19T15:24:28.452188",
     "status": "completed"
    },
    "tags": []
   },
   "outputs": [],
   "source": [
    "df14 = subset(match14, select=-c(date))\n",
    "df15 = subset(match15, select=-c(date))"
   ]
  },
  {
   "cell_type": "code",
   "execution_count": 10,
   "metadata": {
    "execution": {
     "iopub.execute_input": "2020-11-19T15:24:28.523851Z",
     "iopub.status.busy": "2020-11-19T15:24:28.522613Z",
     "iopub.status.idle": "2020-11-19T15:24:28.552217Z",
     "shell.execute_reply": "2020-11-19T15:24:28.551157Z"
    },
    "papermill": {
     "duration": 0.04975,
     "end_time": "2020-11-19T15:24:28.552377",
     "exception": false,
     "start_time": "2020-11-19T15:24:28.502627",
     "status": "completed"
    },
    "tags": []
   },
   "outputs": [],
   "source": [
    "team_ranking14_byscore <- aggregate(df14$score, by=list(team_api_id=df14$team_api_id), FUN=mean) %>% rename(score=x)\n",
    "team_ranking15_byscore <- aggregate(df15$score, by=list(team_api_id=df15$team_api_id), FUN=mean) %>% rename(score=x)"
   ]
  },
  {
   "cell_type": "code",
   "execution_count": 11,
   "metadata": {
    "execution": {
     "iopub.execute_input": "2020-11-19T15:24:28.591079Z",
     "iopub.status.busy": "2020-11-19T15:24:28.589835Z",
     "iopub.status.idle": "2020-11-19T15:24:28.619559Z",
     "shell.execute_reply": "2020-11-19T15:24:28.618109Z"
    },
    "papermill": {
     "duration": 0.050691,
     "end_time": "2020-11-19T15:24:28.619736",
     "exception": false,
     "start_time": "2020-11-19T15:24:28.569045",
     "status": "completed"
    },
    "tags": []
   },
   "outputs": [],
   "source": [
    "team_ranking14_bywin <- aggregate(df14$win_rate, by=list(team_api_id=df14$team_api_id), FUN=mean) %>% rename(win_rate=x)\n",
    "team_ranking15_bywin <- aggregate(df15$win_rate, by=list(team_api_id=df15$team_api_id), FUN=mean) %>% rename(win_rate=x)"
   ]
  },
  {
   "cell_type": "code",
   "execution_count": 12,
   "metadata": {
    "execution": {
     "iopub.execute_input": "2020-11-19T15:24:28.659486Z",
     "iopub.status.busy": "2020-11-19T15:24:28.657999Z",
     "iopub.status.idle": "2020-11-19T15:24:28.686877Z",
     "shell.execute_reply": "2020-11-19T15:24:28.685851Z"
    },
    "papermill": {
     "duration": 0.050239,
     "end_time": "2020-11-19T15:24:28.687054",
     "exception": false,
     "start_time": "2020-11-19T15:24:28.636815",
     "status": "completed"
    },
    "tags": []
   },
   "outputs": [],
   "source": [
    "team_ranking14 <- merge(team,team_ranking14_byscore, by=\"team_api_id\",all.team_ranking14_byscore = TRUE)\n",
    "team_ranking15 <- merge(team,team_ranking15_byscore,by=\"team_api_id\",all.team_ranking14_byscore = TRUE)\n",
    "\n",
    "team_ranking14 <- arrange(merge(team_ranking14,team_ranking14_bywin, by=\"team_api_id\"),-win_rate)\n",
    "team_ranking15 <- arrange(merge(team_ranking15,team_ranking15_bywin,by=\"team_api_id\"),-win_rate)\n",
    "\n",
    "\n"
   ]
  },
  {
   "cell_type": "code",
   "execution_count": 13,
   "metadata": {
    "execution": {
     "iopub.execute_input": "2020-11-19T15:24:28.725871Z",
     "iopub.status.busy": "2020-11-19T15:24:28.724626Z",
     "iopub.status.idle": "2020-11-19T15:24:28.757436Z",
     "shell.execute_reply": "2020-11-19T15:24:28.756266Z"
    },
    "papermill": {
     "duration": 0.053727,
     "end_time": "2020-11-19T15:24:28.757628",
     "exception": false,
     "start_time": "2020-11-19T15:24:28.703901",
     "status": "completed"
    },
    "tags": []
   },
   "outputs": [
    {
     "data": {
      "text/html": [
       "<table class=\"dataframe\">\n",
       "<caption>A data.frame: 6 × 4</caption>\n",
       "<thead>\n",
       "\t<tr><th></th><th scope=col>team_api_id</th><th scope=col>team_long_name</th><th scope=col>score</th><th scope=col>win_rate</th></tr>\n",
       "\t<tr><th></th><th scope=col>&lt;int&gt;</th><th scope=col>&lt;chr&gt;</th><th scope=col>&lt;dbl&gt;</th><th scope=col>&lt;dbl&gt;</th></tr>\n",
       "</thead>\n",
       "<tbody>\n",
       "\t<tr><th scope=row>1</th><td>9772</td><td>SL Benfica      </td><td>1.633333</td><td>0.8333333</td></tr>\n",
       "\t<tr><th scope=row>2</th><td>9823</td><td>FC Bayern Munich</td><td>2.114286</td><td>0.8285714</td></tr>\n",
       "\t<tr><th scope=row>3</th><td>9885</td><td>Juventus        </td><td>1.513514</td><td>0.8108108</td></tr>\n",
       "\t<tr><th scope=row>4</th><td>8640</td><td>PSV             </td><td>1.181818</td><td>0.7575758</td></tr>\n",
       "\t<tr><th scope=row>5</th><td>8633</td><td>Real Madrid CF  </td><td>2.222222</td><td>0.7500000</td></tr>\n",
       "\t<tr><th scope=row>6</th><td>9925</td><td>Celtic          </td><td>1.868421</td><td>0.7368421</td></tr>\n",
       "</tbody>\n",
       "</table>\n"
      ],
      "text/latex": [
       "A data.frame: 6 × 4\n",
       "\\begin{tabular}{r|llll}\n",
       "  & team\\_api\\_id & team\\_long\\_name & score & win\\_rate\\\\\n",
       "  & <int> & <chr> & <dbl> & <dbl>\\\\\n",
       "\\hline\n",
       "\t1 & 9772 & SL Benfica       & 1.633333 & 0.8333333\\\\\n",
       "\t2 & 9823 & FC Bayern Munich & 2.114286 & 0.8285714\\\\\n",
       "\t3 & 9885 & Juventus         & 1.513514 & 0.8108108\\\\\n",
       "\t4 & 8640 & PSV              & 1.181818 & 0.7575758\\\\\n",
       "\t5 & 8633 & Real Madrid CF   & 2.222222 & 0.7500000\\\\\n",
       "\t6 & 9925 & Celtic           & 1.868421 & 0.7368421\\\\\n",
       "\\end{tabular}\n"
      ],
      "text/markdown": [
       "\n",
       "A data.frame: 6 × 4\n",
       "\n",
       "| <!--/--> | team_api_id &lt;int&gt; | team_long_name &lt;chr&gt; | score &lt;dbl&gt; | win_rate &lt;dbl&gt; |\n",
       "|---|---|---|---|---|\n",
       "| 1 | 9772 | SL Benfica       | 1.633333 | 0.8333333 |\n",
       "| 2 | 9823 | FC Bayern Munich | 2.114286 | 0.8285714 |\n",
       "| 3 | 9885 | Juventus         | 1.513514 | 0.8108108 |\n",
       "| 4 | 8640 | PSV              | 1.181818 | 0.7575758 |\n",
       "| 5 | 8633 | Real Madrid CF   | 2.222222 | 0.7500000 |\n",
       "| 6 | 9925 | Celtic           | 1.868421 | 0.7368421 |\n",
       "\n"
      ],
      "text/plain": [
       "  team_api_id team_long_name   score    win_rate \n",
       "1 9772        SL Benfica       1.633333 0.8333333\n",
       "2 9823        FC Bayern Munich 2.114286 0.8285714\n",
       "3 9885        Juventus         1.513514 0.8108108\n",
       "4 8640        PSV              1.181818 0.7575758\n",
       "5 8633        Real Madrid CF   2.222222 0.7500000\n",
       "6 9925        Celtic           1.868421 0.7368421"
      ]
     },
     "metadata": {},
     "output_type": "display_data"
    },
    {
     "data": {
      "text/html": [
       "<table class=\"dataframe\">\n",
       "<caption>A data.frame: 6 × 4</caption>\n",
       "<thead>\n",
       "\t<tr><th></th><th scope=col>team_api_id</th><th scope=col>team_long_name</th><th scope=col>score</th><th scope=col>win_rate</th></tr>\n",
       "\t<tr><th></th><th scope=col>&lt;int&gt;</th><th scope=col>&lt;chr&gt;</th><th scope=col>&lt;dbl&gt;</th><th scope=col>&lt;dbl&gt;</th></tr>\n",
       "</thead>\n",
       "<tbody>\n",
       "\t<tr><th scope=row>1</th><td>9773</td><td>FC Porto           </td><td>1.764706</td><td>0.7941176</td></tr>\n",
       "\t<tr><th scope=row>2</th><td>8634</td><td>FC Barcelona       </td><td>2.105263</td><td>0.7894737</td></tr>\n",
       "\t<tr><th scope=row>3</th><td>9847</td><td>Paris Saint-Germain</td><td>1.763158</td><td>0.7894737</td></tr>\n",
       "\t<tr><th scope=row>4</th><td>9925</td><td>Celtic             </td><td>1.948718</td><td>0.7692308</td></tr>\n",
       "\t<tr><th scope=row>5</th><td>8640</td><td>PSV                </td><td>1.470588</td><td>0.7647059</td></tr>\n",
       "\t<tr><th scope=row>6</th><td>9768</td><td>Sporting CP        </td><td>1.205882</td><td>0.7647059</td></tr>\n",
       "</tbody>\n",
       "</table>\n"
      ],
      "text/latex": [
       "A data.frame: 6 × 4\n",
       "\\begin{tabular}{r|llll}\n",
       "  & team\\_api\\_id & team\\_long\\_name & score & win\\_rate\\\\\n",
       "  & <int> & <chr> & <dbl> & <dbl>\\\\\n",
       "\\hline\n",
       "\t1 & 9773 & FC Porto            & 1.764706 & 0.7941176\\\\\n",
       "\t2 & 8634 & FC Barcelona        & 2.105263 & 0.7894737\\\\\n",
       "\t3 & 9847 & Paris Saint-Germain & 1.763158 & 0.7894737\\\\\n",
       "\t4 & 9925 & Celtic              & 1.948718 & 0.7692308\\\\\n",
       "\t5 & 8640 & PSV                 & 1.470588 & 0.7647059\\\\\n",
       "\t6 & 9768 & Sporting CP         & 1.205882 & 0.7647059\\\\\n",
       "\\end{tabular}\n"
      ],
      "text/markdown": [
       "\n",
       "A data.frame: 6 × 4\n",
       "\n",
       "| <!--/--> | team_api_id &lt;int&gt; | team_long_name &lt;chr&gt; | score &lt;dbl&gt; | win_rate &lt;dbl&gt; |\n",
       "|---|---|---|---|---|\n",
       "| 1 | 9773 | FC Porto            | 1.764706 | 0.7941176 |\n",
       "| 2 | 8634 | FC Barcelona        | 2.105263 | 0.7894737 |\n",
       "| 3 | 9847 | Paris Saint-Germain | 1.763158 | 0.7894737 |\n",
       "| 4 | 9925 | Celtic              | 1.948718 | 0.7692308 |\n",
       "| 5 | 8640 | PSV                 | 1.470588 | 0.7647059 |\n",
       "| 6 | 9768 | Sporting CP         | 1.205882 | 0.7647059 |\n",
       "\n"
      ],
      "text/plain": [
       "  team_api_id team_long_name      score    win_rate \n",
       "1 9773        FC Porto            1.764706 0.7941176\n",
       "2 8634        FC Barcelona        2.105263 0.7894737\n",
       "3 9847        Paris Saint-Germain 1.763158 0.7894737\n",
       "4 9925        Celtic              1.948718 0.7692308\n",
       "5 8640        PSV                 1.470588 0.7647059\n",
       "6 9768        Sporting CP         1.205882 0.7647059"
      ]
     },
     "metadata": {},
     "output_type": "display_data"
    }
   ],
   "source": [
    "head(team_ranking14)\n",
    "head(team_ranking15)"
   ]
  },
  {
   "cell_type": "code",
   "execution_count": null,
   "metadata": {
    "papermill": {
     "duration": 0.018704,
     "end_time": "2020-11-19T15:24:28.796280",
     "exception": false,
     "start_time": "2020-11-19T15:24:28.777576",
     "status": "completed"
    },
    "tags": []
   },
   "outputs": [],
   "source": []
  }
 ],
 "metadata": {
  "kernelspec": {
   "display_name": "R",
   "language": "R",
   "name": "ir"
  },
  "language_info": {
   "codemirror_mode": "r",
   "file_extension": ".r",
   "mimetype": "text/x-r-source",
   "name": "R",
   "pygments_lexer": "r",
   "version": "3.6.3"
  },
  "papermill": {
   "default_parameters": {},
   "duration": 17.07994,
   "end_time": "2020-11-19T15:24:28.925471",
   "environment_variables": {},
   "exception": null,
   "input_path": "__notebook__.ipynb",
   "output_path": "__notebook__.ipynb",
   "parameters": {},
   "start_time": "2020-11-19T15:24:11.845531",
   "version": "2.2.2"
  }
 },
 "nbformat": 4,
 "nbformat_minor": 4
}
